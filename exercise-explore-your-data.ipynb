{
 "cells": [
  {
   "cell_type": "markdown",
   "id": "1532d9dc",
   "metadata": {
    "papermill": {
     "duration": 0.01043,
     "end_time": "2021-08-08T10:26:17.513538",
     "exception": false,
     "start_time": "2021-08-08T10:26:17.503108",
     "status": "completed"
    },
    "tags": []
   },
   "source": [
    "**[Machine Learning Course Home Page](https://www.kaggle.com/learn/machine-learning)**\n",
    "\n",
    "---\n"
   ]
  },
  {
   "cell_type": "markdown",
   "id": "3ff1c56d",
   "metadata": {
    "papermill": {
     "duration": 0.008711,
     "end_time": "2021-08-08T10:26:17.534698",
     "exception": false,
     "start_time": "2021-08-08T10:26:17.525987",
     "status": "completed"
    },
    "tags": []
   },
   "source": [
    "This exercise will test your ability to read a data file and understand statistics about the data.\n",
    "\n",
    "In later exercises, you will apply techniques to filter the data, build a machine learning model, and iteratively improve your model.\n",
    "\n",
    "The course examples use data from Melbourne. To ensure you can apply these techniques on your own, you will have to apply them to a new dataset (with house prices from Iowa).\n",
    "\n",
    "The exercises use a \"notebook\" coding environment.  In case you are unfamiliar with notebooks, we have a [90-second intro video](https://www.youtube.com/watch?v=4C2qMnaIKL4).\n",
    "\n",
    "# Exercises\n",
    "\n",
    "Run the following cell to set up code-checking, which will verify your work as you go."
   ]
  },
  {
   "cell_type": "code",
   "execution_count": 1,
   "id": "9b4706cb",
   "metadata": {
    "execution": {
     "iopub.execute_input": "2021-08-08T10:26:17.565265Z",
     "iopub.status.busy": "2021-08-08T10:26:17.564525Z",
     "iopub.status.idle": "2021-08-08T10:26:17.606302Z",
     "shell.execute_reply": "2021-08-08T10:26:17.605518Z",
     "shell.execute_reply.started": "2021-08-05T12:41:48.618808Z"
    },
    "papermill": {
     "duration": 0.062619,
     "end_time": "2021-08-08T10:26:17.606463",
     "exception": false,
     "start_time": "2021-08-08T10:26:17.543844",
     "status": "completed"
    },
    "tags": []
   },
   "outputs": [
    {
     "name": "stdout",
     "output_type": "stream",
     "text": [
      "Setup Complete\n"
     ]
    }
   ],
   "source": [
    "# Set up code checking\n",
    "from learntools.core import binder\n",
    "binder.bind(globals())\n",
    "from learntools.machine_learning.ex2 import *\n",
    "print(\"Setup Complete\")"
   ]
  },
  {
   "cell_type": "markdown",
   "id": "0fa9e2e2",
   "metadata": {
    "papermill": {
     "duration": 0.009098,
     "end_time": "2021-08-08T10:26:17.625416",
     "exception": false,
     "start_time": "2021-08-08T10:26:17.616318",
     "status": "completed"
    },
    "tags": []
   },
   "source": [
    "## Step 1: Loading Data\n",
    "Read the Iowa data file into a Pandas DataFrame called `home_data`."
   ]
  },
  {
   "cell_type": "code",
   "execution_count": 2,
   "id": "cf900099",
   "metadata": {
    "execution": {
     "iopub.execute_input": "2021-08-08T10:26:17.745408Z",
     "iopub.status.busy": "2021-08-08T10:26:17.744664Z",
     "iopub.status.idle": "2021-08-08T10:26:17.800544Z",
     "shell.execute_reply": "2021-08-08T10:26:17.799537Z",
     "shell.execute_reply.started": "2021-08-05T12:42:35.911243Z"
    },
    "papermill": {
     "duration": 0.165518,
     "end_time": "2021-08-08T10:26:17.800704",
     "exception": false,
     "start_time": "2021-08-08T10:26:17.635186",
     "status": "completed"
    },
    "tags": []
   },
   "outputs": [
    {
     "data": {
      "application/javascript": [
       "parent.postMessage({\"jupyterEvent\": \"custom.exercise_interaction\", \"data\": {\"outcomeType\": 1, \"valueTowardsCompletion\": 0.5, \"interactionType\": 1, \"questionType\": 1, \"questionId\": \"1_LoadHomeData\", \"learnToolsVersion\": \"0.3.4\", \"failureMessage\": \"\", \"exceptionClass\": \"\", \"trace\": \"\"}}, \"*\")"
      ],
      "text/plain": [
       "<IPython.core.display.Javascript object>"
      ]
     },
     "metadata": {},
     "output_type": "display_data"
    },
    {
     "data": {
      "text/markdown": [
       "<span style=\"color:#33cc33\">Correct</span>"
      ],
      "text/plain": [
       "Correct"
      ]
     },
     "metadata": {},
     "output_type": "display_data"
    }
   ],
   "source": [
    "import pandas as pd\n",
    "\n",
    "# Path of the file to read\n",
    "iowa_file_path = '../input/home-data-for-ml-course/train.csv'\n",
    "\n",
    "# Fill in the line below to read the file into a variable home_data\n",
    "home_data = pd.read_csv(iowa_file_path)\n",
    "\n",
    "# Call line below with no argument to check that you've loaded the data correctly\n",
    "step_1.check()"
   ]
  },
  {
   "cell_type": "code",
   "execution_count": 3,
   "id": "86b1bbfb",
   "metadata": {
    "execution": {
     "iopub.execute_input": "2021-08-08T10:26:17.830214Z",
     "iopub.status.busy": "2021-08-08T10:26:17.829309Z",
     "iopub.status.idle": "2021-08-08T10:26:17.836776Z",
     "shell.execute_reply": "2021-08-08T10:26:17.836062Z",
     "shell.execute_reply.started": "2021-08-05T12:42:08.784962Z"
    },
    "papermill": {
     "duration": 0.025156,
     "end_time": "2021-08-08T10:26:17.836957",
     "exception": false,
     "start_time": "2021-08-08T10:26:17.811801",
     "status": "completed"
    },
    "tags": []
   },
   "outputs": [
    {
     "data": {
      "application/javascript": [
       "parent.postMessage({\"jupyterEvent\": \"custom.exercise_interaction\", \"data\": {\"interactionType\": 3, \"questionType\": 1, \"questionId\": \"1_LoadHomeData\", \"learnToolsVersion\": \"0.3.4\", \"valueTowardsCompletion\": 0.0, \"failureMessage\": \"\", \"exceptionClass\": \"\", \"trace\": \"\", \"outcomeType\": 4}}, \"*\")"
      ],
      "text/plain": [
       "<IPython.core.display.Javascript object>"
      ]
     },
     "metadata": {},
     "output_type": "display_data"
    },
    {
     "data": {
      "text/markdown": [
       "<span style=\"color:#33cc99\">Solution:</span> \n",
       "```python\n",
       "home_data = pd.read_csv(iowa_file_path)\n",
       "```"
      ],
      "text/plain": [
       "Solution: \n",
       "```python\n",
       "home_data = pd.read_csv(iowa_file_path)\n",
       "```"
      ]
     },
     "metadata": {},
     "output_type": "display_data"
    }
   ],
   "source": [
    "# Lines below will give you a hint or solution code\n",
    "#step_1.hint()\n",
    "step_1.solution()"
   ]
  },
  {
   "cell_type": "markdown",
   "id": "da4b34ec",
   "metadata": {
    "papermill": {
     "duration": 0.01267,
     "end_time": "2021-08-08T10:26:17.861012",
     "exception": false,
     "start_time": "2021-08-08T10:26:17.848342",
     "status": "completed"
    },
    "tags": []
   },
   "source": [
    "## Step 2: Review The Data\n",
    "Use the command you learned to view summary statistics of the data. Then fill in variables to answer the following questions"
   ]
  },
  {
   "cell_type": "code",
   "execution_count": 4,
   "id": "32b45500",
   "metadata": {
    "execution": {
     "iopub.execute_input": "2021-08-08T10:26:17.890843Z",
     "iopub.status.busy": "2021-08-08T10:26:17.889931Z",
     "iopub.status.idle": "2021-08-08T10:26:17.893271Z",
     "shell.execute_reply": "2021-08-08T10:26:17.892588Z",
     "shell.execute_reply.started": "2021-08-05T12:46:23.645531Z"
    },
    "papermill": {
     "duration": 0.020119,
     "end_time": "2021-08-08T10:26:17.893411",
     "exception": false,
     "start_time": "2021-08-08T10:26:17.873292",
     "status": "completed"
    },
    "tags": []
   },
   "outputs": [],
   "source": [
    "#Print summary statistics in next line\n",
    "import pandas as pd"
   ]
  },
  {
   "cell_type": "code",
   "execution_count": 5,
   "id": "1f58ea69",
   "metadata": {
    "execution": {
     "iopub.execute_input": "2021-08-08T10:26:17.923299Z",
     "iopub.status.busy": "2021-08-08T10:26:17.922552Z",
     "iopub.status.idle": "2021-08-08T10:26:17.929457Z",
     "shell.execute_reply": "2021-08-08T10:26:17.928780Z",
     "shell.execute_reply.started": "2021-08-05T12:43:38.519448Z"
    },
    "papermill": {
     "duration": 0.024543,
     "end_time": "2021-08-08T10:26:17.929602",
     "exception": false,
     "start_time": "2021-08-08T10:26:17.905059",
     "status": "completed"
    },
    "tags": []
   },
   "outputs": [
    {
     "data": {
      "application/javascript": [
       "parent.postMessage({\"jupyterEvent\": \"custom.exercise_interaction\", \"data\": {\"outcomeType\": 1, \"valueTowardsCompletion\": 0.5, \"interactionType\": 1, \"questionType\": 1, \"questionId\": \"2_HomeDescription\", \"learnToolsVersion\": \"0.3.4\", \"failureMessage\": \"\", \"exceptionClass\": \"\", \"trace\": \"\"}}, \"*\")"
      ],
      "text/plain": [
       "<IPython.core.display.Javascript object>"
      ]
     },
     "metadata": {},
     "output_type": "display_data"
    },
    {
     "data": {
      "text/markdown": [
       "<span style=\"color:#33cc33\">Correct</span>"
      ],
      "text/plain": [
       "Correct"
      ]
     },
     "metadata": {},
     "output_type": "display_data"
    }
   ],
   "source": [
    "# What is the average lot size (rounded to nearest integer)?\n",
    "avg_lot_size = 10517\n",
    "\n",
    "# As of today, how old is the newest home (current year - the date in which it was built)\n",
    "newest_home_age = 11\n",
    "\n",
    "# Checks your answers\n",
    "step_2.check()"
   ]
  },
  {
   "cell_type": "code",
   "execution_count": 6,
   "id": "0224932e",
   "metadata": {
    "execution": {
     "iopub.execute_input": "2021-08-08T10:26:17.960562Z",
     "iopub.status.busy": "2021-08-08T10:26:17.959496Z",
     "iopub.status.idle": "2021-08-08T10:26:17.972650Z",
     "shell.execute_reply": "2021-08-08T10:26:17.971691Z",
     "shell.execute_reply.started": "2021-08-05T12:43:10.82654Z"
    },
    "papermill": {
     "duration": 0.030513,
     "end_time": "2021-08-08T10:26:17.972874",
     "exception": false,
     "start_time": "2021-08-08T10:26:17.942361",
     "status": "completed"
    },
    "tags": []
   },
   "outputs": [
    {
     "data": {
      "application/javascript": [
       "parent.postMessage({\"jupyterEvent\": \"custom.exercise_interaction\", \"data\": {\"interactionType\": 2, \"questionType\": 1, \"questionId\": \"2_HomeDescription\", \"learnToolsVersion\": \"0.3.4\", \"valueTowardsCompletion\": 0.0, \"failureMessage\": \"\", \"exceptionClass\": \"\", \"trace\": \"\", \"outcomeType\": 4}}, \"*\")"
      ],
      "text/plain": [
       "<IPython.core.display.Javascript object>"
      ]
     },
     "metadata": {},
     "output_type": "display_data"
    },
    {
     "data": {
      "text/markdown": [
       "<span style=\"color:#3366cc\">Hint:</span> Run the describe command. Lot size is in the column called LotArea. Also look at YearBuilt. Remember to round lot size "
      ],
      "text/plain": [
       "Hint: Run the describe command. Lot size is in the column called LotArea. Also look at YearBuilt. Remember to round lot size "
      ]
     },
     "metadata": {},
     "output_type": "display_data"
    },
    {
     "data": {
      "application/javascript": [
       "parent.postMessage({\"jupyterEvent\": \"custom.exercise_interaction\", \"data\": {\"interactionType\": 3, \"questionType\": 1, \"questionId\": \"2_HomeDescription\", \"learnToolsVersion\": \"0.3.4\", \"valueTowardsCompletion\": 0.0, \"failureMessage\": \"\", \"exceptionClass\": \"\", \"trace\": \"\", \"outcomeType\": 4}}, \"*\")"
      ],
      "text/plain": [
       "<IPython.core.display.Javascript object>"
      ]
     },
     "metadata": {},
     "output_type": "display_data"
    },
    {
     "data": {
      "text/markdown": [
       "<span style=\"color:#33cc99\">Solution:</span> \n",
       "```python\n",
       "# using data read from home_data.describe()\n",
       "avg_lot_size = 10517\n",
       "newest_home_age = 11\n",
       "\n",
       "```"
      ],
      "text/plain": [
       "Solution: \n",
       "```python\n",
       "# using data read from home_data.describe()\n",
       "avg_lot_size = 10517\n",
       "newest_home_age = 11\n",
       "\n",
       "```"
      ]
     },
     "metadata": {},
     "output_type": "display_data"
    }
   ],
   "source": [
    "step_2.hint()\n",
    "step_2.solution()"
   ]
  },
  {
   "cell_type": "markdown",
   "id": "5a054a87",
   "metadata": {
    "papermill": {
     "duration": 0.016028,
     "end_time": "2021-08-08T10:26:18.006540",
     "exception": false,
     "start_time": "2021-08-08T10:26:17.990512",
     "status": "completed"
    },
    "tags": []
   },
   "source": [
    "## Think About Your Data\n",
    "\n",
    "The newest house in your data isn't that new.  A few potential explanations for this:\n",
    "1. They haven't built new houses where this data was collected.\n",
    "1. The data was collected a long time ago. Houses built after the data publication wouldn't show up.\n",
    "\n",
    "If the reason is explanation #1 above, does that affect your trust in the model you build with this data? What about if it is reason #2?\n",
    "\n",
    "How could you dig into the data to see which explanation is more plausible?\n",
    "\n",
    "Check out this **[discussion thread](https://www.kaggle.com/learn-forum/60581)** to see what others think or to add your ideas.\n",
    "\n",
    "# Keep Going\n",
    "\n",
    "You are ready for **[Your First Machine Learning Model](https://www.kaggle.com/dansbecker/your-first-machine-learning-model).**\n"
   ]
  },
  {
   "cell_type": "markdown",
   "id": "1ef9dadc",
   "metadata": {
    "papermill": {
     "duration": 0.01797,
     "end_time": "2021-08-08T10:26:18.040820",
     "exception": false,
     "start_time": "2021-08-08T10:26:18.022850",
     "status": "completed"
    },
    "tags": []
   },
   "source": [
    "---\n",
    "**[Machine Learning Course Home Page](https://www.kaggle.com/learn/machine-learning)**\n",
    "\n"
   ]
  }
 ],
 "metadata": {
  "kernelspec": {
   "display_name": "Python 3",
   "language": "python",
   "name": "python3"
  },
  "language_info": {
   "codemirror_mode": {
    "name": "ipython",
    "version": 3
   },
   "file_extension": ".py",
   "mimetype": "text/x-python",
   "name": "python",
   "nbconvert_exporter": "python",
   "pygments_lexer": "ipython3",
   "version": "3.7.10"
  },
  "papermill": {
   "default_parameters": {},
   "duration": 9.769824,
   "end_time": "2021-08-08T10:26:18.769185",
   "environment_variables": {},
   "exception": null,
   "input_path": "__notebook__.ipynb",
   "output_path": "__notebook__.ipynb",
   "parameters": {},
   "start_time": "2021-08-08T10:26:08.999361",
   "version": "2.3.3"
  }
 },
 "nbformat": 4,
 "nbformat_minor": 5
}
