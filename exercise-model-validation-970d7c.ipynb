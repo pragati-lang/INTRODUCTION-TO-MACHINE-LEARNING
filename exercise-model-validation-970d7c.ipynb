{
 "cells": [
  {
   "cell_type": "markdown",
   "id": "95534f08",
   "metadata": {
    "papermill": {
     "duration": 0.014685,
     "end_time": "2021-08-08T10:30:42.564510",
     "exception": false,
     "start_time": "2021-08-08T10:30:42.549825",
     "status": "completed"
    },
    "tags": []
   },
   "source": [
    "**This notebook is an exercise in the [Introduction to Machine Learning](https://www.kaggle.com/learn/intro-to-machine-learning) course.  You can reference the tutorial at [this link](https://www.kaggle.com/dansbecker/model-validation).**\n",
    "\n",
    "---\n"
   ]
  },
  {
   "cell_type": "markdown",
   "id": "7a184dc6",
   "metadata": {
    "papermill": {
     "duration": 0.013266,
     "end_time": "2021-08-08T10:30:42.592293",
     "exception": false,
     "start_time": "2021-08-08T10:30:42.579027",
     "status": "completed"
    },
    "tags": []
   },
   "source": [
    "## Recap\n",
    "You've built a model. In this exercise you will test how good your model is.\n",
    "\n",
    "Run the cell below to set up your coding environment where the previous exercise left off."
   ]
  },
  {
   "cell_type": "code",
   "execution_count": 1,
   "id": "a2126167",
   "metadata": {
    "execution": {
     "iopub.execute_input": "2021-08-08T10:30:42.635577Z",
     "iopub.status.busy": "2021-08-08T10:30:42.634855Z",
     "iopub.status.idle": "2021-08-08T10:30:44.059081Z",
     "shell.execute_reply": "2021-08-08T10:30:44.058357Z",
     "shell.execute_reply.started": "2021-08-05T12:56:57.428929Z"
    },
    "papermill": {
     "duration": 1.45335,
     "end_time": "2021-08-08T10:30:44.059268",
     "exception": false,
     "start_time": "2021-08-08T10:30:42.605918",
     "status": "completed"
    },
    "tags": []
   },
   "outputs": [
    {
     "name": "stdout",
     "output_type": "stream",
     "text": [
      "First in-sample predictions: [208500. 181500. 223500. 140000. 250000.]\n",
      "Actual target values for those homes: [208500, 181500, 223500, 140000, 250000]\n",
      "Setup Complete\n"
     ]
    }
   ],
   "source": [
    "# Code you have previously used to load data\n",
    "import pandas as pd\n",
    "from sklearn.tree import DecisionTreeRegressor\n",
    "\n",
    "# Path of the file to read\n",
    "iowa_file_path = '../input/home-data-for-ml-course/train.csv'\n",
    "\n",
    "home_data = pd.read_csv(iowa_file_path)\n",
    "y = home_data.SalePrice\n",
    "feature_columns = ['LotArea', 'YearBuilt', '1stFlrSF', '2ndFlrSF', 'FullBath', 'BedroomAbvGr', 'TotRmsAbvGrd']\n",
    "X = home_data[feature_columns]\n",
    "\n",
    "# Specify Model\n",
    "iowa_model = DecisionTreeRegressor()\n",
    "# Fit Model\n",
    "iowa_model.fit(X, y)\n",
    "\n",
    "print(\"First in-sample predictions:\", iowa_model.predict(X.head()))\n",
    "print(\"Actual target values for those homes:\", y.head().tolist())\n",
    "\n",
    "# Set up code checking\n",
    "from learntools.core import binder\n",
    "binder.bind(globals())\n",
    "from learntools.machine_learning.ex4 import *\n",
    "print(\"Setup Complete\")"
   ]
  },
  {
   "cell_type": "markdown",
   "id": "fb8875b5",
   "metadata": {
    "papermill": {
     "duration": 0.014655,
     "end_time": "2021-08-08T10:30:44.088595",
     "exception": false,
     "start_time": "2021-08-08T10:30:44.073940",
     "status": "completed"
    },
    "tags": []
   },
   "source": [
    "# Exercises\n",
    "\n",
    "## Step 1: Split Your Data\n",
    "Use the `train_test_split` function to split up your data.\n",
    "\n",
    "Give it the argument `random_state=1` so the `check` functions know what to expect when verifying your code.\n",
    "\n",
    "Recall, your features are loaded in the DataFrame **X** and your target is loaded in **y**.\n"
   ]
  },
  {
   "cell_type": "code",
   "execution_count": 2,
   "id": "b83eb047",
   "metadata": {
    "execution": {
     "iopub.execute_input": "2021-08-08T10:30:44.130867Z",
     "iopub.status.busy": "2021-08-08T10:30:44.130114Z",
     "iopub.status.idle": "2021-08-08T10:30:44.152611Z",
     "shell.execute_reply": "2021-08-08T10:30:44.153211Z",
     "shell.execute_reply.started": "2021-08-05T12:57:46.384056Z"
    },
    "papermill": {
     "duration": 0.050379,
     "end_time": "2021-08-08T10:30:44.153401",
     "exception": false,
     "start_time": "2021-08-08T10:30:44.103022",
     "status": "completed"
    },
    "tags": []
   },
   "outputs": [
    {
     "data": {
      "application/javascript": [
       "parent.postMessage({\"jupyterEvent\": \"custom.exercise_interaction\", \"data\": {\"outcomeType\": 1, \"valueTowardsCompletion\": 0.25, \"interactionType\": 1, \"questionType\": 2, \"questionId\": \"1_SplitData\", \"learnToolsVersion\": \"0.3.4\", \"failureMessage\": \"\", \"exceptionClass\": \"\", \"trace\": \"\"}}, \"*\")"
      ],
      "text/plain": [
       "<IPython.core.display.Javascript object>"
      ]
     },
     "metadata": {},
     "output_type": "display_data"
    },
    {
     "data": {
      "text/markdown": [
       "<span style=\"color:#33cc33\">Correct</span>"
      ],
      "text/plain": [
       "Correct"
      ]
     },
     "metadata": {},
     "output_type": "display_data"
    }
   ],
   "source": [
    "# Import the train_test_split function and uncomment\n",
    "from sklearn.model_selection import train_test_split# from _ import _\n",
    "\n",
    "# fill in and uncomment\n",
    "train_X, val_X, train_y, val_y = train_test_split(X, y, random_state=1)# train_X, val_X, train_y, val_y = ____\n",
    "\n",
    "# Check your answer\n",
    "step_1.check()"
   ]
  },
  {
   "cell_type": "code",
   "execution_count": 3,
   "id": "b9fe08d1",
   "metadata": {
    "execution": {
     "iopub.execute_input": "2021-08-08T10:30:44.186787Z",
     "iopub.status.busy": "2021-08-08T10:30:44.186139Z",
     "iopub.status.idle": "2021-08-08T10:30:44.192823Z",
     "shell.execute_reply": "2021-08-08T10:30:44.193329Z",
     "shell.execute_reply.started": "2021-08-05T12:57:15.163678Z"
    },
    "papermill": {
     "duration": 0.025274,
     "end_time": "2021-08-08T10:30:44.193524",
     "exception": false,
     "start_time": "2021-08-08T10:30:44.168250",
     "status": "completed"
    },
    "tags": []
   },
   "outputs": [
    {
     "data": {
      "application/javascript": [
       "parent.postMessage({\"jupyterEvent\": \"custom.exercise_interaction\", \"data\": {\"interactionType\": 3, \"questionType\": 2, \"questionId\": \"1_SplitData\", \"learnToolsVersion\": \"0.3.4\", \"valueTowardsCompletion\": 0.0, \"failureMessage\": \"\", \"exceptionClass\": \"\", \"trace\": \"\", \"outcomeType\": 4}}, \"*\")"
      ],
      "text/plain": [
       "<IPython.core.display.Javascript object>"
      ]
     },
     "metadata": {},
     "output_type": "display_data"
    },
    {
     "data": {
      "text/markdown": [
       "<span style=\"color:#33cc99\">Solution:</span> \n",
       "```python\n",
       "from sklearn.model_selection import train_test_split\n",
       "train_X, val_X, train_y, val_y = train_test_split(X, y, random_state=1)\n",
       "```"
      ],
      "text/plain": [
       "Solution: \n",
       "```python\n",
       "from sklearn.model_selection import train_test_split\n",
       "train_X, val_X, train_y, val_y = train_test_split(X, y, random_state=1)\n",
       "```"
      ]
     },
     "metadata": {},
     "output_type": "display_data"
    }
   ],
   "source": [
    "# The lines below will show you a hint or the solution.\n",
    "# step_1.hint() \n",
    "step_1.solution()\n"
   ]
  },
  {
   "cell_type": "markdown",
   "id": "36d84cf9",
   "metadata": {
    "papermill": {
     "duration": 0.015631,
     "end_time": "2021-08-08T10:30:44.225553",
     "exception": false,
     "start_time": "2021-08-08T10:30:44.209922",
     "status": "completed"
    },
    "tags": []
   },
   "source": [
    "## Step 2: Specify and Fit the Model\n",
    "\n",
    "Create a `DecisionTreeRegressor` model and fit it to the relevant data.\n",
    "Set `random_state` to 1 again when creating the model."
   ]
  },
  {
   "cell_type": "code",
   "execution_count": 4,
   "id": "7057cd80",
   "metadata": {
    "execution": {
     "iopub.execute_input": "2021-08-08T10:30:44.261146Z",
     "iopub.status.busy": "2021-08-08T10:30:44.260448Z",
     "iopub.status.idle": "2021-08-08T10:30:44.292680Z",
     "shell.execute_reply": "2021-08-08T10:30:44.293160Z",
     "shell.execute_reply.started": "2021-08-05T12:58:28.877004Z"
    },
    "papermill": {
     "duration": 0.05164,
     "end_time": "2021-08-08T10:30:44.293368",
     "exception": false,
     "start_time": "2021-08-08T10:30:44.241728",
     "status": "completed"
    },
    "tags": []
   },
   "outputs": [
    {
     "name": "stdout",
     "output_type": "stream",
     "text": [
      "[186500. 184000. 130000.  92000. 164500. 220000. 335000. 144152. 215000.\n",
      " 262000.]\n",
      "[186500. 184000. 130000.  92000. 164500. 220000. 335000. 144152. 215000.\n",
      " 262000.]\n"
     ]
    },
    {
     "data": {
      "application/javascript": [
       "parent.postMessage({\"jupyterEvent\": \"custom.exercise_interaction\", \"data\": {\"outcomeType\": 1, \"valueTowardsCompletion\": 0.25, \"interactionType\": 1, \"questionType\": 2, \"questionId\": \"2_FitModelWithTrain\", \"learnToolsVersion\": \"0.3.4\", \"failureMessage\": \"\", \"exceptionClass\": \"\", \"trace\": \"\"}}, \"*\")"
      ],
      "text/plain": [
       "<IPython.core.display.Javascript object>"
      ]
     },
     "metadata": {},
     "output_type": "display_data"
    },
    {
     "data": {
      "text/markdown": [
       "<span style=\"color:#33cc33\">Correct</span>"
      ],
      "text/plain": [
       "Correct"
      ]
     },
     "metadata": {},
     "output_type": "display_data"
    }
   ],
   "source": [
    "# You imported DecisionTreeRegressor in your last exercise\n",
    "# and that code has been copied to the setup code above. So, no need to\n",
    "# import it again\n",
    "\n",
    "# Specify the model\n",
    "iowa_model = DecisionTreeRegressor(random_state=1)\n",
    "\n",
    "# Fit iowa_model with the training data.\n",
    "iowa_model.fit(train_X, train_y)\n",
    "\n",
    "# Check your answer\n",
    "step_2.check()"
   ]
  },
  {
   "cell_type": "code",
   "execution_count": 5,
   "id": "6da75ac8",
   "metadata": {
    "execution": {
     "iopub.execute_input": "2021-08-08T10:30:44.335299Z",
     "iopub.status.busy": "2021-08-08T10:30:44.334608Z",
     "iopub.status.idle": "2021-08-08T10:30:44.340296Z",
     "shell.execute_reply": "2021-08-08T10:30:44.340814Z",
     "shell.execute_reply.started": "2021-08-05T12:58:02.993347Z"
    },
    "papermill": {
     "duration": 0.029054,
     "end_time": "2021-08-08T10:30:44.340984",
     "exception": false,
     "start_time": "2021-08-08T10:30:44.311930",
     "status": "completed"
    },
    "tags": []
   },
   "outputs": [
    {
     "data": {
      "application/javascript": [
       "parent.postMessage({\"jupyterEvent\": \"custom.exercise_interaction\", \"data\": {\"interactionType\": 3, \"questionType\": 2, \"questionId\": \"2_FitModelWithTrain\", \"learnToolsVersion\": \"0.3.4\", \"valueTowardsCompletion\": 0.0, \"failureMessage\": \"\", \"exceptionClass\": \"\", \"trace\": \"\", \"outcomeType\": 4}}, \"*\")"
      ],
      "text/plain": [
       "<IPython.core.display.Javascript object>"
      ]
     },
     "metadata": {},
     "output_type": "display_data"
    },
    {
     "data": {
      "text/markdown": [
       "<span style=\"color:#33cc99\">Solution:</span> \n",
       "```python\n",
       "iowa_model = DecisionTreeRegressor(random_state=1)\n",
       "iowa_model.fit(train_X, train_y)\n",
       "```"
      ],
      "text/plain": [
       "Solution: \n",
       "```python\n",
       "iowa_model = DecisionTreeRegressor(random_state=1)\n",
       "iowa_model.fit(train_X, train_y)\n",
       "```"
      ]
     },
     "metadata": {},
     "output_type": "display_data"
    }
   ],
   "source": [
    "# step_2.hint()\n",
    "step_2.solution()"
   ]
  },
  {
   "cell_type": "markdown",
   "id": "9e7b161a",
   "metadata": {
    "papermill": {
     "duration": 0.01766,
     "end_time": "2021-08-08T10:30:44.376747",
     "exception": false,
     "start_time": "2021-08-08T10:30:44.359087",
     "status": "completed"
    },
    "tags": []
   },
   "source": [
    "## Step 3: Make Predictions with Validation data\n"
   ]
  },
  {
   "cell_type": "code",
   "execution_count": 6,
   "id": "143bd3b9",
   "metadata": {
    "execution": {
     "iopub.execute_input": "2021-08-08T10:30:44.416481Z",
     "iopub.status.busy": "2021-08-08T10:30:44.415545Z",
     "iopub.status.idle": "2021-08-08T10:30:44.427760Z",
     "shell.execute_reply": "2021-08-08T10:30:44.428251Z",
     "shell.execute_reply.started": "2021-08-05T12:59:06.158763Z"
    },
    "papermill": {
     "duration": 0.033696,
     "end_time": "2021-08-08T10:30:44.428462",
     "exception": false,
     "start_time": "2021-08-08T10:30:44.394766",
     "status": "completed"
    },
    "tags": []
   },
   "outputs": [
    {
     "data": {
      "application/javascript": [
       "parent.postMessage({\"jupyterEvent\": \"custom.exercise_interaction\", \"data\": {\"outcomeType\": 1, \"valueTowardsCompletion\": 0.25, \"interactionType\": 1, \"questionType\": 2, \"questionId\": \"3_ValPreds\", \"learnToolsVersion\": \"0.3.4\", \"failureMessage\": \"\", \"exceptionClass\": \"\", \"trace\": \"\"}}, \"*\")"
      ],
      "text/plain": [
       "<IPython.core.display.Javascript object>"
      ]
     },
     "metadata": {},
     "output_type": "display_data"
    },
    {
     "data": {
      "text/markdown": [
       "<span style=\"color:#33cc33\">Correct</span>"
      ],
      "text/plain": [
       "Correct"
      ]
     },
     "metadata": {},
     "output_type": "display_data"
    }
   ],
   "source": [
    "# Predict with all validation observations\n",
    "val_predictions = iowa_model.predict(val_X)\n",
    "\n",
    "# Check your answer\n",
    "step_3.check()"
   ]
  },
  {
   "cell_type": "code",
   "execution_count": 7,
   "id": "1e450131",
   "metadata": {
    "execution": {
     "iopub.execute_input": "2021-08-08T10:30:44.472087Z",
     "iopub.status.busy": "2021-08-08T10:30:44.471339Z",
     "iopub.status.idle": "2021-08-08T10:30:44.477552Z",
     "shell.execute_reply": "2021-08-08T10:30:44.478054Z",
     "shell.execute_reply.started": "2021-08-05T12:58:51.91263Z"
    },
    "papermill": {
     "duration": 0.029715,
     "end_time": "2021-08-08T10:30:44.478255",
     "exception": false,
     "start_time": "2021-08-08T10:30:44.448540",
     "status": "completed"
    },
    "tags": []
   },
   "outputs": [
    {
     "data": {
      "application/javascript": [
       "parent.postMessage({\"jupyterEvent\": \"custom.exercise_interaction\", \"data\": {\"interactionType\": 3, \"questionType\": 2, \"questionId\": \"3_ValPreds\", \"learnToolsVersion\": \"0.3.4\", \"valueTowardsCompletion\": 0.0, \"failureMessage\": \"\", \"exceptionClass\": \"\", \"trace\": \"\", \"outcomeType\": 4}}, \"*\")"
      ],
      "text/plain": [
       "<IPython.core.display.Javascript object>"
      ]
     },
     "metadata": {},
     "output_type": "display_data"
    },
    {
     "data": {
      "text/markdown": [
       "<span style=\"color:#33cc99\">Solution:</span> \n",
       "```python\n",
       "val_predictions = iowa_model.predict(val_X)\n",
       "```"
      ],
      "text/plain": [
       "Solution: \n",
       "```python\n",
       "val_predictions = iowa_model.predict(val_X)\n",
       "```"
      ]
     },
     "metadata": {},
     "output_type": "display_data"
    }
   ],
   "source": [
    "# step_3.hint()\n",
    "step_3.solution()"
   ]
  },
  {
   "cell_type": "markdown",
   "id": "7012ea93",
   "metadata": {
    "papermill": {
     "duration": 0.020109,
     "end_time": "2021-08-08T10:30:44.518787",
     "exception": false,
     "start_time": "2021-08-08T10:30:44.498678",
     "status": "completed"
    },
    "tags": []
   },
   "source": [
    "Inspect your predictions and actual values from validation data."
   ]
  },
  {
   "cell_type": "code",
   "execution_count": 8,
   "id": "b5758e5b",
   "metadata": {
    "execution": {
     "iopub.execute_input": "2021-08-08T10:30:44.563960Z",
     "iopub.status.busy": "2021-08-08T10:30:44.563314Z",
     "iopub.status.idle": "2021-08-08T10:30:44.571042Z",
     "shell.execute_reply": "2021-08-08T10:30:44.570362Z",
     "shell.execute_reply.started": "2021-08-05T12:59:48.501072Z"
    },
    "papermill": {
     "duration": 0.03116,
     "end_time": "2021-08-08T10:30:44.571195",
     "exception": false,
     "start_time": "2021-08-08T10:30:44.540035",
     "status": "completed"
    },
    "tags": []
   },
   "outputs": [
    {
     "name": "stdout",
     "output_type": "stream",
     "text": [
      "<learntools.core.constants.PlaceholderValue object at 0x7f2f40e82510>\n",
      "<learntools.core.constants.PlaceholderValue object at 0x7f2f40e82510>\n"
     ]
    }
   ],
   "source": [
    "# print the top few validation predictions\n",
    "print(____)\n",
    "# print the top few actual prices from validation data\n",
    "print(____)"
   ]
  },
  {
   "cell_type": "markdown",
   "id": "9cd5f1db",
   "metadata": {
    "papermill": {
     "duration": 0.021611,
     "end_time": "2021-08-08T10:30:44.613139",
     "exception": false,
     "start_time": "2021-08-08T10:30:44.591528",
     "status": "completed"
    },
    "tags": []
   },
   "source": [
    "What do you notice that is different from what you saw with in-sample predictions (which are printed after the top code cell in this page).\n",
    "\n",
    "Do you remember why validation predictions differ from in-sample (or training) predictions? This is an important idea from the last lesson.\n",
    "\n",
    "## Step 4: Calculate the Mean Absolute Error in Validation Data\n"
   ]
  },
  {
   "cell_type": "code",
   "execution_count": 9,
   "id": "b63d137c",
   "metadata": {
    "execution": {
     "iopub.execute_input": "2021-08-08T10:30:44.660320Z",
     "iopub.status.busy": "2021-08-08T10:30:44.659669Z",
     "iopub.status.idle": "2021-08-08T10:30:44.665330Z",
     "shell.execute_reply": "2021-08-08T10:30:44.664724Z",
     "shell.execute_reply.started": "2021-08-05T13:00:27.035415Z"
    },
    "papermill": {
     "duration": 0.032144,
     "end_time": "2021-08-08T10:30:44.665469",
     "exception": false,
     "start_time": "2021-08-08T10:30:44.633325",
     "status": "completed"
    },
    "tags": []
   },
   "outputs": [
    {
     "data": {
      "application/javascript": [
       "parent.postMessage({\"jupyterEvent\": \"custom.exercise_interaction\", \"data\": {\"outcomeType\": 1, \"valueTowardsCompletion\": 0.25, \"interactionType\": 1, \"questionType\": 1, \"questionId\": \"4_MAE\", \"learnToolsVersion\": \"0.3.4\", \"failureMessage\": \"\", \"exceptionClass\": \"\", \"trace\": \"\"}}, \"*\")"
      ],
      "text/plain": [
       "<IPython.core.display.Javascript object>"
      ]
     },
     "metadata": {},
     "output_type": "display_data"
    },
    {
     "data": {
      "text/markdown": [
       "<span style=\"color:#33cc33\">Correct</span>"
      ],
      "text/plain": [
       "Correct"
      ]
     },
     "metadata": {},
     "output_type": "display_data"
    }
   ],
   "source": [
    "from sklearn.metrics import mean_absolute_error\n",
    "val_mae = mean_absolute_error(val_predictions, val_y)\n",
    "\n",
    "# uncomment following line to see the validation_mae\n",
    "#print(val_mae)\n",
    "\n",
    "# Check your answer\n",
    "step_4.check()"
   ]
  },
  {
   "cell_type": "code",
   "execution_count": 10,
   "id": "35569258",
   "metadata": {
    "execution": {
     "iopub.execute_input": "2021-08-08T10:30:44.712993Z",
     "iopub.status.busy": "2021-08-08T10:30:44.712287Z",
     "iopub.status.idle": "2021-08-08T10:30:44.718923Z",
     "shell.execute_reply": "2021-08-08T10:30:44.719473Z",
     "shell.execute_reply.started": "2021-08-05T13:00:09.078932Z"
    },
    "papermill": {
     "duration": 0.032785,
     "end_time": "2021-08-08T10:30:44.719664",
     "exception": false,
     "start_time": "2021-08-08T10:30:44.686879",
     "status": "completed"
    },
    "tags": []
   },
   "outputs": [
    {
     "data": {
      "application/javascript": [
       "parent.postMessage({\"jupyterEvent\": \"custom.exercise_interaction\", \"data\": {\"interactionType\": 3, \"questionType\": 1, \"questionId\": \"4_MAE\", \"learnToolsVersion\": \"0.3.4\", \"valueTowardsCompletion\": 0.0, \"failureMessage\": \"\", \"exceptionClass\": \"\", \"trace\": \"\", \"outcomeType\": 4}}, \"*\")"
      ],
      "text/plain": [
       "<IPython.core.display.Javascript object>"
      ]
     },
     "metadata": {},
     "output_type": "display_data"
    },
    {
     "data": {
      "text/markdown": [
       "<span style=\"color:#33cc99\">Solution:</span> \n",
       "```python\n",
       "val_mae = mean_absolute_error(val_predictions, val_y)\n",
       "```"
      ],
      "text/plain": [
       "Solution: \n",
       "```python\n",
       "val_mae = mean_absolute_error(val_predictions, val_y)\n",
       "```"
      ]
     },
     "metadata": {},
     "output_type": "display_data"
    }
   ],
   "source": [
    "# step_4.hint()\n",
    "step_4.solution()"
   ]
  },
  {
   "cell_type": "markdown",
   "id": "de01f3e7",
   "metadata": {
    "papermill": {
     "duration": 0.021917,
     "end_time": "2021-08-08T10:30:44.763864",
     "exception": false,
     "start_time": "2021-08-08T10:30:44.741947",
     "status": "completed"
    },
    "tags": []
   },
   "source": [
    "Is that MAE good?  There isn't a general rule for what values are good that applies across applications. But you'll see how to use (and improve) this number in the next step.\n",
    "\n",
    "# Keep Going\n",
    "\n",
    "You are ready for **[Underfitting and Overfitting](https://www.kaggle.com/dansbecker/underfitting-and-overfitting).**\n"
   ]
  },
  {
   "cell_type": "markdown",
   "id": "58319818",
   "metadata": {
    "papermill": {
     "duration": 0.022617,
     "end_time": "2021-08-08T10:30:44.808748",
     "exception": false,
     "start_time": "2021-08-08T10:30:44.786131",
     "status": "completed"
    },
    "tags": []
   },
   "source": [
    "---\n",
    "\n",
    "\n",
    "\n",
    "\n",
    "*Have questions or comments? Visit the [Learn Discussion forum](https://www.kaggle.com/learn-forum/161285) to chat with other Learners.*"
   ]
  }
 ],
 "metadata": {
  "kernelspec": {
   "display_name": "Python 3",
   "language": "python",
   "name": "python3"
  },
  "language_info": {
   "codemirror_mode": {
    "name": "ipython",
    "version": 3
   },
   "file_extension": ".py",
   "mimetype": "text/x-python",
   "name": "python",
   "nbconvert_exporter": "python",
   "pygments_lexer": "ipython3",
   "version": "3.7.10"
  },
  "papermill": {
   "default_parameters": {},
   "duration": 12.865218,
   "end_time": "2021-08-08T10:30:46.599642",
   "environment_variables": {},
   "exception": null,
   "input_path": "__notebook__.ipynb",
   "output_path": "__notebook__.ipynb",
   "parameters": {},
   "start_time": "2021-08-08T10:30:33.734424",
   "version": "2.3.3"
  }
 },
 "nbformat": 4,
 "nbformat_minor": 5
}
