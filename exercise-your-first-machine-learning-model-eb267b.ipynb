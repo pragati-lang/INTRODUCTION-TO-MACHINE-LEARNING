{
 "cells": [
  {
   "cell_type": "markdown",
   "id": "70493885",
   "metadata": {
    "papermill": {
     "duration": 0.012274,
     "end_time": "2021-08-08T10:28:48.697862",
     "exception": false,
     "start_time": "2021-08-08T10:28:48.685588",
     "status": "completed"
    },
    "tags": []
   },
   "source": [
    "**This notebook is an exercise in the [Introduction to Machine Learning](https://www.kaggle.com/learn/intro-to-machine-learning) course.  You can reference the tutorial at [this link](https://www.kaggle.com/dansbecker/your-first-machine-learning-model).**\n",
    "\n",
    "---\n"
   ]
  },
  {
   "cell_type": "markdown",
   "id": "63c85190",
   "metadata": {
    "papermill": {
     "duration": 0.01118,
     "end_time": "2021-08-08T10:28:48.720788",
     "exception": false,
     "start_time": "2021-08-08T10:28:48.709608",
     "status": "completed"
    },
    "tags": []
   },
   "source": [
    "## Recap\n",
    "So far, you have loaded your data and reviewed it with the following code. Run this cell to set up your coding environment where the previous step left off."
   ]
  },
  {
   "cell_type": "code",
   "execution_count": 1,
   "id": "79ff6120",
   "metadata": {
    "execution": {
     "iopub.execute_input": "2021-08-08T10:28:48.756045Z",
     "iopub.status.busy": "2021-08-08T10:28:48.752085Z",
     "iopub.status.idle": "2021-08-08T10:28:50.119311Z",
     "shell.execute_reply": "2021-08-08T10:28:50.119765Z",
     "shell.execute_reply.started": "2021-08-05T12:49:27.820357Z"
    },
    "papermill": {
     "duration": 1.387906,
     "end_time": "2021-08-08T10:28:50.120077",
     "exception": false,
     "start_time": "2021-08-08T10:28:48.732171",
     "status": "completed"
    },
    "tags": []
   },
   "outputs": [
    {
     "name": "stdout",
     "output_type": "stream",
     "text": [
      "Setup Complete\n"
     ]
    }
   ],
   "source": [
    "# Code you have previously used to load data\n",
    "import pandas as pd\n",
    "\n",
    "# Path of the file to read\n",
    "iowa_file_path = '../input/home-data-for-ml-course/train.csv'\n",
    "\n",
    "home_data = pd.read_csv(iowa_file_path)\n",
    "\n",
    "# Set up code checking\n",
    "from learntools.core import binder\n",
    "binder.bind(globals())\n",
    "from learntools.machine_learning.ex3 import *\n",
    "\n",
    "print(\"Setup Complete\")"
   ]
  },
  {
   "cell_type": "markdown",
   "id": "d0246733",
   "metadata": {
    "papermill": {
     "duration": 0.011553,
     "end_time": "2021-08-08T10:28:50.143706",
     "exception": false,
     "start_time": "2021-08-08T10:28:50.132153",
     "status": "completed"
    },
    "tags": []
   },
   "source": [
    "# Exercises\n",
    "\n",
    "## Step 1: Specify Prediction Target\n",
    "Select the target variable, which corresponds to the sales price. Save this to a new variable called `y`. You'll need to print a list of the columns to find the name of the column you need.\n"
   ]
  },
  {
   "cell_type": "code",
   "execution_count": 2,
   "id": "ccf97969",
   "metadata": {
    "execution": {
     "iopub.execute_input": "2021-08-08T10:28:50.173616Z",
     "iopub.status.busy": "2021-08-08T10:28:50.172846Z",
     "iopub.status.idle": "2021-08-08T10:28:50.175338Z",
     "shell.execute_reply": "2021-08-08T10:28:50.175920Z",
     "shell.execute_reply.started": "2021-08-05T12:51:16.505642Z"
    },
    "papermill": {
     "duration": 0.020007,
     "end_time": "2021-08-08T10:28:50.176094",
     "exception": false,
     "start_time": "2021-08-08T10:28:50.156087",
     "status": "completed"
    },
    "tags": []
   },
   "outputs": [
    {
     "name": "stdout",
     "output_type": "stream",
     "text": [
      "Index(['Id', 'MSSubClass', 'MSZoning', 'LotFrontage', 'LotArea', 'Street',\n",
      "       'Alley', 'LotShape', 'LandContour', 'Utilities', 'LotConfig',\n",
      "       'LandSlope', 'Neighborhood', 'Condition1', 'Condition2', 'BldgType',\n",
      "       'HouseStyle', 'OverallQual', 'OverallCond', 'YearBuilt', 'YearRemodAdd',\n",
      "       'RoofStyle', 'RoofMatl', 'Exterior1st', 'Exterior2nd', 'MasVnrType',\n",
      "       'MasVnrArea', 'ExterQual', 'ExterCond', 'Foundation', 'BsmtQual',\n",
      "       'BsmtCond', 'BsmtExposure', 'BsmtFinType1', 'BsmtFinSF1',\n",
      "       'BsmtFinType2', 'BsmtFinSF2', 'BsmtUnfSF', 'TotalBsmtSF', 'Heating',\n",
      "       'HeatingQC', 'CentralAir', 'Electrical', '1stFlrSF', '2ndFlrSF',\n",
      "       'LowQualFinSF', 'GrLivArea', 'BsmtFullBath', 'BsmtHalfBath', 'FullBath',\n",
      "       'HalfBath', 'BedroomAbvGr', 'KitchenAbvGr', 'KitchenQual',\n",
      "       'TotRmsAbvGrd', 'Functional', 'Fireplaces', 'FireplaceQu', 'GarageType',\n",
      "       'GarageYrBlt', 'GarageFinish', 'GarageCars', 'GarageArea', 'GarageQual',\n",
      "       'GarageCond', 'PavedDrive', 'WoodDeckSF', 'OpenPorchSF',\n",
      "       'EnclosedPorch', '3SsnPorch', 'ScreenPorch', 'PoolArea', 'PoolQC',\n",
      "       'Fence', 'MiscFeature', 'MiscVal', 'MoSold', 'YrSold', 'SaleType',\n",
      "       'SaleCondition', 'SalePrice'],\n",
      "      dtype='object')\n"
     ]
    }
   ],
   "source": [
    "print(home_data.columns)# print the list of columns in the dataset to find the name of the prediction target\n"
   ]
  },
  {
   "cell_type": "code",
   "execution_count": 3,
   "id": "e727d689",
   "metadata": {
    "execution": {
     "iopub.execute_input": "2021-08-08T10:28:50.204964Z",
     "iopub.status.busy": "2021-08-08T10:28:50.204282Z",
     "iopub.status.idle": "2021-08-08T10:28:50.222995Z",
     "shell.execute_reply": "2021-08-08T10:28:50.222464Z",
     "shell.execute_reply.started": "2021-08-05T12:50:37.727006Z"
    },
    "papermill": {
     "duration": 0.034661,
     "end_time": "2021-08-08T10:28:50.223136",
     "exception": false,
     "start_time": "2021-08-08T10:28:50.188475",
     "status": "completed"
    },
    "tags": []
   },
   "outputs": [
    {
     "data": {
      "application/javascript": [
       "parent.postMessage({\"jupyterEvent\": \"custom.exercise_interaction\", \"data\": {\"outcomeType\": 1, \"valueTowardsCompletion\": 0.25, \"interactionType\": 1, \"questionType\": 2, \"questionId\": \"1_SetTarget\", \"learnToolsVersion\": \"0.3.4\", \"failureMessage\": \"\", \"exceptionClass\": \"\", \"trace\": \"\"}}, \"*\")"
      ],
      "text/plain": [
       "<IPython.core.display.Javascript object>"
      ]
     },
     "metadata": {},
     "output_type": "display_data"
    },
    {
     "data": {
      "text/markdown": [
       "<span style=\"color:#33cc33\">Correct</span>"
      ],
      "text/plain": [
       "Correct"
      ]
     },
     "metadata": {},
     "output_type": "display_data"
    }
   ],
   "source": [
    "y = home_data.SalePrice\n",
    "\n",
    "# Check your answer\n",
    "step_1.check()"
   ]
  },
  {
   "cell_type": "code",
   "execution_count": 4,
   "id": "fecb56ba",
   "metadata": {
    "execution": {
     "iopub.execute_input": "2021-08-08T10:28:50.252755Z",
     "iopub.status.busy": "2021-08-08T10:28:50.251827Z",
     "iopub.status.idle": "2021-08-08T10:28:50.264086Z",
     "shell.execute_reply": "2021-08-08T10:28:50.263581Z",
     "shell.execute_reply.started": "2021-08-05T12:51:00.569373Z"
    },
    "papermill": {
     "duration": 0.027933,
     "end_time": "2021-08-08T10:28:50.264228",
     "exception": false,
     "start_time": "2021-08-08T10:28:50.236295",
     "status": "completed"
    },
    "tags": []
   },
   "outputs": [
    {
     "data": {
      "application/javascript": [
       "parent.postMessage({\"jupyterEvent\": \"custom.exercise_interaction\", \"data\": {\"interactionType\": 2, \"questionType\": 2, \"questionId\": \"1_SetTarget\", \"learnToolsVersion\": \"0.3.4\", \"valueTowardsCompletion\": 0.0, \"failureMessage\": \"\", \"exceptionClass\": \"\", \"trace\": \"\", \"outcomeType\": 4}}, \"*\")"
      ],
      "text/plain": [
       "<IPython.core.display.Javascript object>"
      ]
     },
     "metadata": {},
     "output_type": "display_data"
    },
    {
     "data": {
      "text/markdown": [
       "<span style=\"color:#3366cc\">Hint:</span> Use `print(home_data.columns)`. The column you want is at the end of the list. Use the dot notation to pull out this column from the DataFrame"
      ],
      "text/plain": [
       "Hint: Use `print(home_data.columns)`. The column you want is at the end of the list. Use the dot notation to pull out this column from the DataFrame"
      ]
     },
     "metadata": {},
     "output_type": "display_data"
    },
    {
     "data": {
      "application/javascript": [
       "parent.postMessage({\"jupyterEvent\": \"custom.exercise_interaction\", \"data\": {\"interactionType\": 3, \"questionType\": 2, \"questionId\": \"1_SetTarget\", \"learnToolsVersion\": \"0.3.4\", \"valueTowardsCompletion\": 0.0, \"failureMessage\": \"\", \"exceptionClass\": \"\", \"trace\": \"\", \"outcomeType\": 4}}, \"*\")"
      ],
      "text/plain": [
       "<IPython.core.display.Javascript object>"
      ]
     },
     "metadata": {},
     "output_type": "display_data"
    },
    {
     "data": {
      "text/markdown": [
       "<span style=\"color:#33cc99\">Solution:</span> \n",
       "```python\n",
       "y = home_data.SalePrice\n",
       "```"
      ],
      "text/plain": [
       "Solution: \n",
       "```python\n",
       "y = home_data.SalePrice\n",
       "```"
      ]
     },
     "metadata": {},
     "output_type": "display_data"
    }
   ],
   "source": [
    "# The lines below will show you a hint or the solution.\n",
    "step_1.hint() \n",
    "step_1.solution()"
   ]
  },
  {
   "cell_type": "markdown",
   "id": "e420772f",
   "metadata": {
    "papermill": {
     "duration": 0.014082,
     "end_time": "2021-08-08T10:28:50.292746",
     "exception": false,
     "start_time": "2021-08-08T10:28:50.278664",
     "status": "completed"
    },
    "tags": []
   },
   "source": [
    "## Step 2: Create X\n",
    "Now you will create a DataFrame called `X` holding the predictive features.\n",
    "\n",
    "Since you want only some columns from the original data, you'll first create a list with the names of the columns you want in `X`.\n",
    "\n",
    "You'll use just the following columns in the list (you can copy and paste the whole list to save some typing, though you'll still need to add quotes):\n",
    "    * LotArea\n",
    "    * YearBuilt\n",
    "    * 1stFlrSF\n",
    "    * 2ndFlrSF\n",
    "    * FullBath\n",
    "    * BedroomAbvGr\n",
    "    * TotRmsAbvGrd\n",
    "\n",
    "After you've created that list of features, use it to create the DataFrame that you'll use to fit the model."
   ]
  },
  {
   "cell_type": "code",
   "execution_count": 5,
   "id": "b10bd274",
   "metadata": {
    "execution": {
     "iopub.execute_input": "2021-08-08T10:28:50.329559Z",
     "iopub.status.busy": "2021-08-08T10:28:50.328911Z",
     "iopub.status.idle": "2021-08-08T10:28:50.333353Z",
     "shell.execute_reply": "2021-08-08T10:28:50.332778Z",
     "shell.execute_reply.started": "2021-08-05T12:52:39.240763Z"
    },
    "papermill": {
     "duration": 0.026427,
     "end_time": "2021-08-08T10:28:50.333483",
     "exception": false,
     "start_time": "2021-08-08T10:28:50.307056",
     "status": "completed"
    },
    "tags": []
   },
   "outputs": [
    {
     "data": {
      "application/javascript": [
       "parent.postMessage({\"jupyterEvent\": \"custom.exercise_interaction\", \"data\": {\"outcomeType\": 1, \"valueTowardsCompletion\": 0.25, \"interactionType\": 1, \"questionType\": 2, \"questionId\": \"2_SelectPredictionData\", \"learnToolsVersion\": \"0.3.4\", \"failureMessage\": \"\", \"exceptionClass\": \"\", \"trace\": \"\"}}, \"*\")"
      ],
      "text/plain": [
       "<IPython.core.display.Javascript object>"
      ]
     },
     "metadata": {},
     "output_type": "display_data"
    },
    {
     "data": {
      "text/markdown": [
       "<span style=\"color:#33cc33\">Correct</span>"
      ],
      "text/plain": [
       "Correct"
      ]
     },
     "metadata": {},
     "output_type": "display_data"
    }
   ],
   "source": [
    "# Create the list of features below\n",
    "feature_names = [\"LotArea\", \"YearBuilt\", \"1stFlrSF\", \"2ndFlrSF\",\n",
    "                      \"FullBath\", \"BedroomAbvGr\", \"TotRmsAbvGrd\"]\n",
    "\n",
    "# Select data corresponding to features in feature_names\n",
    "X = home_data[feature_names]\n",
    "\n",
    "# Check your answer\n",
    "step_2.check()"
   ]
  },
  {
   "cell_type": "code",
   "execution_count": 6,
   "id": "81218b08",
   "metadata": {
    "execution": {
     "iopub.execute_input": "2021-08-08T10:28:50.366959Z",
     "iopub.status.busy": "2021-08-08T10:28:50.366385Z",
     "iopub.status.idle": "2021-08-08T10:28:50.374661Z",
     "shell.execute_reply": "2021-08-08T10:28:50.374174Z",
     "shell.execute_reply.started": "2021-08-05T12:52:09.923425Z"
    },
    "papermill": {
     "duration": 0.026246,
     "end_time": "2021-08-08T10:28:50.374791",
     "exception": false,
     "start_time": "2021-08-08T10:28:50.348545",
     "status": "completed"
    },
    "tags": []
   },
   "outputs": [
    {
     "data": {
      "application/javascript": [
       "parent.postMessage({\"jupyterEvent\": \"custom.exercise_interaction\", \"data\": {\"interactionType\": 3, \"questionType\": 2, \"questionId\": \"2_SelectPredictionData\", \"learnToolsVersion\": \"0.3.4\", \"valueTowardsCompletion\": 0.0, \"failureMessage\": \"\", \"exceptionClass\": \"\", \"trace\": \"\", \"outcomeType\": 4}}, \"*\")"
      ],
      "text/plain": [
       "<IPython.core.display.Javascript object>"
      ]
     },
     "metadata": {},
     "output_type": "display_data"
    },
    {
     "data": {
      "text/markdown": [
       "<span style=\"color:#33cc99\">Solution:</span> \n",
       "```python\n",
       "feature_names = [\"LotArea\", \"YearBuilt\", \"1stFlrSF\", \"2ndFlrSF\",\n",
       "                      \"FullBath\", \"BedroomAbvGr\", \"TotRmsAbvGrd\"]\n",
       "\n",
       "X=home_data[feature_names]\n",
       "```"
      ],
      "text/plain": [
       "Solution: \n",
       "```python\n",
       "feature_names = [\"LotArea\", \"YearBuilt\", \"1stFlrSF\", \"2ndFlrSF\",\n",
       "                      \"FullBath\", \"BedroomAbvGr\", \"TotRmsAbvGrd\"]\n",
       "\n",
       "X=home_data[feature_names]\n",
       "```"
      ]
     },
     "metadata": {},
     "output_type": "display_data"
    }
   ],
   "source": [
    "# step_2.hint()\n",
    "step_2.solution()"
   ]
  },
  {
   "cell_type": "markdown",
   "id": "67a8a1de",
   "metadata": {
    "papermill": {
     "duration": 0.020366,
     "end_time": "2021-08-08T10:28:50.415180",
     "exception": false,
     "start_time": "2021-08-08T10:28:50.394814",
     "status": "completed"
    },
    "tags": []
   },
   "source": [
    "## Review Data\n",
    "Before building a model, take a quick look at **X** to verify it looks sensible"
   ]
  },
  {
   "cell_type": "code",
   "execution_count": 7,
   "id": "c14f97e0",
   "metadata": {
    "execution": {
     "iopub.execute_input": "2021-08-08T10:28:50.461624Z",
     "iopub.status.busy": "2021-08-08T10:28:50.460988Z",
     "iopub.status.idle": "2021-08-08T10:28:50.466249Z",
     "shell.execute_reply": "2021-08-08T10:28:50.466958Z",
     "shell.execute_reply.started": "2021-08-05T12:53:12.546393Z"
    },
    "papermill": {
     "duration": 0.030123,
     "end_time": "2021-08-08T10:28:50.467195",
     "exception": false,
     "start_time": "2021-08-08T10:28:50.437072",
     "status": "completed"
    },
    "tags": []
   },
   "outputs": [
    {
     "name": "stdout",
     "output_type": "stream",
     "text": [
      "\n",
      "\n"
     ]
    }
   ],
   "source": [
    "# Review data\n",
    "# print description or statistics from X\n",
    "print(_)\n",
    "\n",
    "# print the top few lines\n",
    "print(_)"
   ]
  },
  {
   "cell_type": "markdown",
   "id": "df1d02d6",
   "metadata": {
    "papermill": {
     "duration": 0.016026,
     "end_time": "2021-08-08T10:28:50.503612",
     "exception": false,
     "start_time": "2021-08-08T10:28:50.487586",
     "status": "completed"
    },
    "tags": []
   },
   "source": [
    "## Step 3: Specify and Fit Model\n",
    "Create a `DecisionTreeRegressor` and save it iowa_model. Ensure you've done the relevant import from sklearn to run this command.\n",
    "\n",
    "Then fit the model you just created using the data in `X` and `y` that you saved above."
   ]
  },
  {
   "cell_type": "code",
   "execution_count": 8,
   "id": "151bdeaa",
   "metadata": {
    "execution": {
     "iopub.execute_input": "2021-08-08T10:28:50.539637Z",
     "iopub.status.busy": "2021-08-08T10:28:50.538634Z",
     "iopub.status.idle": "2021-08-08T10:28:50.559401Z",
     "shell.execute_reply": "2021-08-08T10:28:50.560032Z",
     "shell.execute_reply.started": "2021-08-05T12:54:34.641797Z"
    },
    "papermill": {
     "duration": 0.040412,
     "end_time": "2021-08-08T10:28:50.560197",
     "exception": false,
     "start_time": "2021-08-08T10:28:50.519785",
     "status": "completed"
    },
    "tags": []
   },
   "outputs": [
    {
     "data": {
      "application/javascript": [
       "parent.postMessage({\"jupyterEvent\": \"custom.exercise_interaction\", \"data\": {\"outcomeType\": 1, \"valueTowardsCompletion\": 0.25, \"interactionType\": 1, \"questionType\": 2, \"questionId\": \"3_CreateModel\", \"learnToolsVersion\": \"0.3.4\", \"failureMessage\": \"\", \"exceptionClass\": \"\", \"trace\": \"\"}}, \"*\")"
      ],
      "text/plain": [
       "<IPython.core.display.Javascript object>"
      ]
     },
     "metadata": {},
     "output_type": "display_data"
    },
    {
     "data": {
      "text/markdown": [
       "<span style=\"color:#33cc33\">Correct</span>"
      ],
      "text/plain": [
       "Correct"
      ]
     },
     "metadata": {},
     "output_type": "display_data"
    }
   ],
   "source": [
    "from sklearn.tree import DecisionTreeRegressor# from _ import _\n",
    "#specify the model. \n",
    "#For model reproducibility, set a numeric value for random_state when specifying the model\n",
    "iowa_model = DecisionTreeRegressor(random_state=1)\n",
    "\n",
    "\n",
    "# Fit the model\n",
    "iowa_model.fit(X, y)\n",
    "\n",
    "# Check your answer\n",
    "step_3.check()"
   ]
  },
  {
   "cell_type": "code",
   "execution_count": 9,
   "id": "3bee57e2",
   "metadata": {
    "execution": {
     "iopub.execute_input": "2021-08-08T10:28:50.598702Z",
     "iopub.status.busy": "2021-08-08T10:28:50.598079Z",
     "iopub.status.idle": "2021-08-08T10:28:50.603579Z",
     "shell.execute_reply": "2021-08-08T10:28:50.602979Z",
     "shell.execute_reply.started": "2021-08-05T12:53:23.699905Z"
    },
    "papermill": {
     "duration": 0.026662,
     "end_time": "2021-08-08T10:28:50.603713",
     "exception": false,
     "start_time": "2021-08-08T10:28:50.577051",
     "status": "completed"
    },
    "tags": []
   },
   "outputs": [
    {
     "data": {
      "application/javascript": [
       "parent.postMessage({\"jupyterEvent\": \"custom.exercise_interaction\", \"data\": {\"interactionType\": 3, \"questionType\": 2, \"questionId\": \"3_CreateModel\", \"learnToolsVersion\": \"0.3.4\", \"valueTowardsCompletion\": 0.0, \"failureMessage\": \"\", \"exceptionClass\": \"\", \"trace\": \"\", \"outcomeType\": 4}}, \"*\")"
      ],
      "text/plain": [
       "<IPython.core.display.Javascript object>"
      ]
     },
     "metadata": {},
     "output_type": "display_data"
    },
    {
     "data": {
      "text/markdown": [
       "<span style=\"color:#33cc99\">Solution:</span> \n",
       "```python\n",
       "from sklearn.tree import DecisionTreeRegressor\n",
       "iowa_model = DecisionTreeRegressor(random_state=1)\n",
       "iowa_model.fit(X, y)\n",
       "```"
      ],
      "text/plain": [
       "Solution: \n",
       "```python\n",
       "from sklearn.tree import DecisionTreeRegressor\n",
       "iowa_model = DecisionTreeRegressor(random_state=1)\n",
       "iowa_model.fit(X, y)\n",
       "```"
      ]
     },
     "metadata": {},
     "output_type": "display_data"
    }
   ],
   "source": [
    "# step_3.hint()\n",
    "step_3.solution()"
   ]
  },
  {
   "cell_type": "markdown",
   "id": "124db029",
   "metadata": {
    "papermill": {
     "duration": 0.016947,
     "end_time": "2021-08-08T10:28:50.638273",
     "exception": false,
     "start_time": "2021-08-08T10:28:50.621326",
     "status": "completed"
    },
    "tags": []
   },
   "source": [
    "## Step 4: Make Predictions\n",
    "Make predictions with the model's `predict` command using `X` as the data. Save the results to a variable called `predictions`."
   ]
  },
  {
   "cell_type": "code",
   "execution_count": 10,
   "id": "c4b4e10a",
   "metadata": {
    "execution": {
     "iopub.execute_input": "2021-08-08T10:28:50.680537Z",
     "iopub.status.busy": "2021-08-08T10:28:50.679849Z",
     "iopub.status.idle": "2021-08-08T10:28:50.689270Z",
     "shell.execute_reply": "2021-08-08T10:28:50.689774Z",
     "shell.execute_reply.started": "2021-08-05T12:55:04.844064Z"
    },
    "papermill": {
     "duration": 0.034246,
     "end_time": "2021-08-08T10:28:50.689966",
     "exception": false,
     "start_time": "2021-08-08T10:28:50.655720",
     "status": "completed"
    },
    "tags": []
   },
   "outputs": [
    {
     "name": "stdout",
     "output_type": "stream",
     "text": [
      "[208500. 181500. 223500. ... 266500. 142125. 147500.]\n"
     ]
    },
    {
     "data": {
      "application/javascript": [
       "parent.postMessage({\"jupyterEvent\": \"custom.exercise_interaction\", \"data\": {\"outcomeType\": 1, \"valueTowardsCompletion\": 0.25, \"interactionType\": 1, \"questionType\": 2, \"questionId\": \"4_MakePredictions\", \"learnToolsVersion\": \"0.3.4\", \"failureMessage\": \"\", \"exceptionClass\": \"\", \"trace\": \"\"}}, \"*\")"
      ],
      "text/plain": [
       "<IPython.core.display.Javascript object>"
      ]
     },
     "metadata": {},
     "output_type": "display_data"
    },
    {
     "data": {
      "text/markdown": [
       "<span style=\"color:#33cc33\">Correct</span>"
      ],
      "text/plain": [
       "Correct"
      ]
     },
     "metadata": {},
     "output_type": "display_data"
    }
   ],
   "source": [
    "predictions = iowa_model.predict(X)\n",
    "print(predictions)\n",
    "\n",
    "# Check your answer\n",
    "step_4.check()"
   ]
  },
  {
   "cell_type": "code",
   "execution_count": 11,
   "id": "85ac42b7",
   "metadata": {
    "execution": {
     "iopub.execute_input": "2021-08-08T10:28:50.732476Z",
     "iopub.status.busy": "2021-08-08T10:28:50.731822Z",
     "iopub.status.idle": "2021-08-08T10:28:50.737531Z",
     "shell.execute_reply": "2021-08-08T10:28:50.736950Z",
     "shell.execute_reply.started": "2021-08-05T12:54:50.368567Z"
    },
    "papermill": {
     "duration": 0.029008,
     "end_time": "2021-08-08T10:28:50.737667",
     "exception": false,
     "start_time": "2021-08-08T10:28:50.708659",
     "status": "completed"
    },
    "tags": []
   },
   "outputs": [
    {
     "data": {
      "application/javascript": [
       "parent.postMessage({\"jupyterEvent\": \"custom.exercise_interaction\", \"data\": {\"interactionType\": 3, \"questionType\": 2, \"questionId\": \"4_MakePredictions\", \"learnToolsVersion\": \"0.3.4\", \"valueTowardsCompletion\": 0.0, \"failureMessage\": \"\", \"exceptionClass\": \"\", \"trace\": \"\", \"outcomeType\": 4}}, \"*\")"
      ],
      "text/plain": [
       "<IPython.core.display.Javascript object>"
      ]
     },
     "metadata": {},
     "output_type": "display_data"
    },
    {
     "data": {
      "text/markdown": [
       "<span style=\"color:#33cc99\">Solution:</span> \n",
       "```python\n",
       "iowa_model.predict(X)\n",
       "```"
      ],
      "text/plain": [
       "Solution: \n",
       "```python\n",
       "iowa_model.predict(X)\n",
       "```"
      ]
     },
     "metadata": {},
     "output_type": "display_data"
    }
   ],
   "source": [
    "# step_4.hint()\n",
    "step_4.solution()"
   ]
  },
  {
   "cell_type": "markdown",
   "id": "c6dc934e",
   "metadata": {
    "papermill": {
     "duration": 0.018714,
     "end_time": "2021-08-08T10:28:50.776679",
     "exception": false,
     "start_time": "2021-08-08T10:28:50.757965",
     "status": "completed"
    },
    "tags": []
   },
   "source": [
    "## Think About Your Results\n",
    "\n",
    "Use the `head` method to compare the top few predictions to the actual home values (in `y`) for those same homes. Anything surprising?\n"
   ]
  },
  {
   "cell_type": "code",
   "execution_count": 12,
   "id": "02cbacb6",
   "metadata": {
    "execution": {
     "iopub.execute_input": "2021-08-08T10:28:50.819770Z",
     "iopub.status.busy": "2021-08-08T10:28:50.819141Z",
     "iopub.status.idle": "2021-08-08T10:28:50.821562Z",
     "shell.execute_reply": "2021-08-08T10:28:50.821984Z",
     "shell.execute_reply.started": "2021-08-05T12:55:18.314425Z"
    },
    "papermill": {
     "duration": 0.025843,
     "end_time": "2021-08-08T10:28:50.822150",
     "exception": false,
     "start_time": "2021-08-08T10:28:50.796307",
     "status": "completed"
    },
    "tags": []
   },
   "outputs": [],
   "source": [
    "# You can write code in this cell\n"
   ]
  },
  {
   "cell_type": "markdown",
   "id": "a34264ac",
   "metadata": {
    "papermill": {
     "duration": 0.01908,
     "end_time": "2021-08-08T10:28:50.860507",
     "exception": false,
     "start_time": "2021-08-08T10:28:50.841427",
     "status": "completed"
    },
    "tags": []
   },
   "source": [
    "It's natural to ask how accurate the model's predictions will be and how you can improve that. That will be you're next step.\n",
    "\n",
    "# Keep Going\n",
    "\n",
    "You are ready for **[Model Validation](https://www.kaggle.com/dansbecker/model-validation).**\n"
   ]
  },
  {
   "cell_type": "markdown",
   "id": "27fc21a4",
   "metadata": {
    "papermill": {
     "duration": 0.018803,
     "end_time": "2021-08-08T10:28:50.898374",
     "exception": false,
     "start_time": "2021-08-08T10:28:50.879571",
     "status": "completed"
    },
    "tags": []
   },
   "source": [
    "---\n",
    "\n",
    "\n",
    "\n",
    "\n",
    "*Have questions or comments? Visit the [Learn Discussion forum](https://www.kaggle.com/learn-forum/161285) to chat with other Learners.*"
   ]
  }
 ],
 "metadata": {
  "kernelspec": {
   "display_name": "Python 3",
   "language": "python",
   "name": "python3"
  },
  "language_info": {
   "codemirror_mode": {
    "name": "ipython",
    "version": 3
   },
   "file_extension": ".py",
   "mimetype": "text/x-python",
   "name": "python",
   "nbconvert_exporter": "python",
   "pygments_lexer": "ipython3",
   "version": "3.7.10"
  },
  "papermill": {
   "default_parameters": {},
   "duration": 10.837918,
   "end_time": "2021-08-08T10:28:52.373888",
   "environment_variables": {},
   "exception": null,
   "input_path": "__notebook__.ipynb",
   "output_path": "__notebook__.ipynb",
   "parameters": {},
   "start_time": "2021-08-08T10:28:41.535970",
   "version": "2.3.3"
  }
 },
 "nbformat": 4,
 "nbformat_minor": 5
}
